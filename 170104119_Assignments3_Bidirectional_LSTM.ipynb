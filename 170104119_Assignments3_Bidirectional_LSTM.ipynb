{
  "nbformat": 4,
  "nbformat_minor": 0,
  "metadata": {
    "colab": {
      "name": "170104119_Assignments3_Bidirectional_LSTM.ipynb",
      "provenance": [],
      "collapsed_sections": []
    },
    "kernelspec": {
      "name": "python3",
      "display_name": "Python 3"
    },
    "language_info": {
      "name": "python"
    }
  },
  "cells": [
    {
      "cell_type": "markdown",
      "metadata": {
        "id": "QrdIKkWPVScr"
      },
      "source": [
        "**Last 3 digit of ID:** 119\n",
        "\n",
        "Now, (Last 3 digit of id%3) = 119%3 = 2. That means the dataset is: **Dataset 3**\n",
        "\n",
        "\n",
        "Last (3 digit of id + dataset number)%5 = (119+3)%5 = 2.\n",
        "That means Model is: **Bidirectional Lstm**"
      ]
    },
    {
      "cell_type": "code",
      "metadata": {
        "colab": {
          "base_uri": "https://localhost:8080/"
        },
        "id": "XMV1UlPhA3Nn",
        "outputId": "16e745b6-e8d0-42c8-e2b3-d4bfbb1a032d"
      },
      "source": [
        "from google.colab import drive\n",
        "drive.mount('/content/drive')"
      ],
      "execution_count": null,
      "outputs": [
        {
          "output_type": "stream",
          "name": "stdout",
          "text": [
            "Drive already mounted at /content/drive; to attempt to forcibly remount, call drive.mount(\"/content/drive\", force_remount=True).\n"
          ]
        }
      ]
    },
    {
      "cell_type": "code",
      "metadata": {
        "id": "BaO2jJ4ZVQen"
      },
      "source": [
        "import matplotlib.pyplot as plt\n",
        "import tensorflow as tf\n",
        "import numpy as np\n",
        "from scipy.spatial.distance import cdist\n",
        "from tensorflow.keras.models import Sequential\n",
        "from tensorflow.keras.layers import Dense, GRU, Embedding\n",
        "from tensorflow.keras.optimizers import Adam\n",
        "from tensorflow.keras.preprocessing.text import Tokenizer\n",
        "from tensorflow.keras.preprocessing.sequence import pad_sequences\n",
        "import re\n",
        "import os\n",
        "import nltk\n",
        "import string\n",
        "import datetime\n",
        "import numpy as np\n",
        "import pandas as pd\n",
        "import seaborn as sn\n",
        "import tensorflow as tf\n",
        "from pathlib import Path\n",
        "from collections import Counter\n",
        "import matplotlib.pyplot as plt\n",
        "from nltk.corpus import stopwords\n",
        "from keras.models import Sequential\n",
        "from nltk.stem import WordNetLemmatizer\n",
        "from keras.preprocessing.text import Tokenizer\n",
        "from tensorflow.python.keras.metrics import Metric\n",
        "from sklearn.model_selection import train_test_split\n",
        "from keras.preprocessing.sequence import pad_sequences\n",
        "from keras.layers import Embedding, LSTM, Dense, Dropout, Bidirectional\n",
        "from google_drive_downloader import GoogleDriveDownloader as gdd"
      ],
      "execution_count": null,
      "outputs": []
    },
    {
      "cell_type": "code",
      "metadata": {
        "colab": {
          "base_uri": "https://localhost:8080/",
          "height": 36
        },
        "id": "D3h38v56z9kH",
        "outputId": "ff37c204-99af-4140-9769-6d73c17d4f63"
      },
      "source": [
        "tf.__version__"
      ],
      "execution_count": null,
      "outputs": [
        {
          "output_type": "execute_result",
          "data": {
            "application/vnd.google.colaboratory.intrinsic+json": {
              "type": "string"
            },
            "text/plain": [
              "'2.6.0'"
            ]
          },
          "metadata": {},
          "execution_count": 3
        }
      ]
    },
    {
      "cell_type": "code",
      "metadata": {
        "colab": {
          "base_uri": "https://localhost:8080/",
          "height": 36
        },
        "id": "JqUllxCn0kLJ",
        "outputId": "ea504244-e9b0-4ef0-94c0-e586b8f9ea4f"
      },
      "source": [
        "tf.keras.__version__"
      ],
      "execution_count": null,
      "outputs": [
        {
          "output_type": "execute_result",
          "data": {
            "application/vnd.google.colaboratory.intrinsic+json": {
              "type": "string"
            },
            "text/plain": [
              "'2.6.0'"
            ]
          },
          "metadata": {},
          "execution_count": 4
        }
      ]
    },
    {
      "cell_type": "code",
      "metadata": {
        "id": "rBrjkol30x1b"
      },
      "source": [
        "DATA_PATH = '/content/drive/My Drive/Dataset 3.csv'\n",
        "if not Path(DATA_PATH).is_file():\n",
        "    gdd.download_file_from_google_drive(\n",
        "        file_id='1hgfcQHIlfnnDTSUAA_3--m-YA7BelKl3',\n",
        "        dest_path=DATA_PATH,\n",
        "    )"
      ],
      "execution_count": null,
      "outputs": []
    },
    {
      "cell_type": "code",
      "metadata": {
        "colab": {
          "base_uri": "https://localhost:8080/",
          "height": 424
        },
        "id": "Zs_LatMJ1aar",
        "outputId": "98a1e27b-9719-4bd7-cd48-e58d962d2e1e"
      },
      "source": [
        "df = pd.read_csv(DATA_PATH, engine = 'python')\n",
        "df"
      ],
      "execution_count": null,
      "outputs": [
        {
          "output_type": "execute_result",
          "data": {
            "text/html": [
              "<div>\n",
              "<style scoped>\n",
              "    .dataframe tbody tr th:only-of-type {\n",
              "        vertical-align: middle;\n",
              "    }\n",
              "\n",
              "    .dataframe tbody tr th {\n",
              "        vertical-align: top;\n",
              "    }\n",
              "\n",
              "    .dataframe thead th {\n",
              "        text-align: right;\n",
              "    }\n",
              "</style>\n",
              "<table border=\"1\" class=\"dataframe\">\n",
              "  <thead>\n",
              "    <tr style=\"text-align: right;\">\n",
              "      <th></th>\n",
              "      <th>tweets</th>\n",
              "      <th>sentiment</th>\n",
              "    </tr>\n",
              "  </thead>\n",
              "  <tbody>\n",
              "    <tr>\n",
              "      <th>0</th>\n",
              "      <td>just had a real good moment. i missssssssss hi...</td>\n",
              "      <td>0</td>\n",
              "    </tr>\n",
              "    <tr>\n",
              "      <th>1</th>\n",
              "      <td>is reading manga  http://plurk.com/p/mzp1e</td>\n",
              "      <td>0</td>\n",
              "    </tr>\n",
              "    <tr>\n",
              "      <th>2</th>\n",
              "      <td>@comeagainjen http://twitpic.com/2y2lx - http:...</td>\n",
              "      <td>0</td>\n",
              "    </tr>\n",
              "    <tr>\n",
              "      <th>3</th>\n",
              "      <td>@lapcat Need to send 'em to my accountant tomo...</td>\n",
              "      <td>0</td>\n",
              "    </tr>\n",
              "    <tr>\n",
              "      <th>4</th>\n",
              "      <td>ADD ME ON MYSPACE!!!  myspace.com/LookThunder</td>\n",
              "      <td>0</td>\n",
              "    </tr>\n",
              "    <tr>\n",
              "      <th>...</th>\n",
              "      <td>...</td>\n",
              "      <td>...</td>\n",
              "    </tr>\n",
              "    <tr>\n",
              "      <th>10309</th>\n",
              "      <td>No Depression by G Herbo is my mood from now o...</td>\n",
              "      <td>1</td>\n",
              "    </tr>\n",
              "    <tr>\n",
              "      <th>10310</th>\n",
              "      <td>What do you do when depression succumbs the br...</td>\n",
              "      <td>1</td>\n",
              "    </tr>\n",
              "    <tr>\n",
              "      <th>10311</th>\n",
              "      <td>Ketamine Nasal Spray Shows Promise Against Dep...</td>\n",
              "      <td>1</td>\n",
              "    </tr>\n",
              "    <tr>\n",
              "      <th>10312</th>\n",
              "      <td>dont mistake a bad day with depression! everyo...</td>\n",
              "      <td>1</td>\n",
              "    </tr>\n",
              "    <tr>\n",
              "      <th>10313</th>\n",
              "      <td>0</td>\n",
              "      <td>1</td>\n",
              "    </tr>\n",
              "  </tbody>\n",
              "</table>\n",
              "<p>10314 rows × 2 columns</p>\n",
              "</div>"
            ],
            "text/plain": [
              "                                                  tweets  sentiment\n",
              "0      just had a real good moment. i missssssssss hi...          0\n",
              "1             is reading manga  http://plurk.com/p/mzp1e          0\n",
              "2      @comeagainjen http://twitpic.com/2y2lx - http:...          0\n",
              "3      @lapcat Need to send 'em to my accountant tomo...          0\n",
              "4          ADD ME ON MYSPACE!!!  myspace.com/LookThunder          0\n",
              "...                                                  ...        ...\n",
              "10309  No Depression by G Herbo is my mood from now o...          1\n",
              "10310  What do you do when depression succumbs the br...          1\n",
              "10311  Ketamine Nasal Spray Shows Promise Against Dep...          1\n",
              "10312  dont mistake a bad day with depression! everyo...          1\n",
              "10313                                                  0          1\n",
              "\n",
              "[10314 rows x 2 columns]"
            ]
          },
          "metadata": {},
          "execution_count": 6
        }
      ]
    },
    {
      "cell_type": "code",
      "metadata": {
        "colab": {
          "base_uri": "https://localhost:8080/"
        },
        "id": "29tN9-Fk1pfl",
        "outputId": "a96ef2db-cdac-44c4-c065-378fd5ae0a01"
      },
      "source": [
        "nltk.download('stopwords')\n",
        "english_stops = set(stopwords.words('english'))\n",
        "nltk.download('punkt')\n",
        "puncset = list(string.punctuation)\n",
        "nltk.download('wordnet')\n",
        "lemmatizer = WordNetLemmatizer()"
      ],
      "execution_count": null,
      "outputs": [
        {
          "output_type": "stream",
          "name": "stdout",
          "text": [
            "[nltk_data] Downloading package stopwords to /root/nltk_data...\n",
            "[nltk_data]   Package stopwords is already up-to-date!\n",
            "[nltk_data] Downloading package punkt to /root/nltk_data...\n",
            "[nltk_data]   Package punkt is already up-to-date!\n",
            "[nltk_data] Downloading package wordnet to /root/nltk_data...\n",
            "[nltk_data]   Package wordnet is already up-to-date!\n"
          ]
        }
      ]
    },
    {
      "cell_type": "code",
      "metadata": {
        "id": "uWpCkB6l12vj"
      },
      "source": [
        "def preprocessed(text):\n",
        "  sentence = [lemmatizer.lemmatize(i, pos='v') for i in text.split() if i not in puncset and i not in english_stops]\n",
        "  sentence = [w for w in sentence if w.isalpha()]\n",
        "  return ' '.join(sentence)"
      ],
      "execution_count": null,
      "outputs": []
    },
    {
      "cell_type": "code",
      "metadata": {
        "id": "ElbFru6i180a"
      },
      "source": [
        "df['tweets'] = df.tweets.map(lambda x: preprocessed(x))"
      ],
      "execution_count": null,
      "outputs": []
    },
    {
      "cell_type": "code",
      "metadata": {
        "colab": {
          "base_uri": "https://localhost:8080/"
        },
        "id": "za_6IFby2Wll",
        "outputId": "254e3e43-5480-4887-fa69-20b4d1dc89db"
      },
      "source": [
        "df.tweets"
      ],
      "execution_count": null,
      "outputs": [
        {
          "output_type": "execute_result",
          "data": {
            "text/plain": [
              "0                                           real good miss\n",
              "1                                               read manga\n",
              "2                                                         \n",
              "3          Need send accountant I even refer Those support\n",
              "4                                                ADD ME ON\n",
              "                               ...                        \n",
              "10309    No Depression G Herbo mood do stress people de...\n",
              "10310    What depression succumb brain make feel like n...\n",
              "10311    Ketamine Nasal Spray Shows Promise Against Sui...\n",
              "10312                        dont mistake bad day everyone\n",
              "10313                                                     \n",
              "Name: tweets, Length: 10314, dtype: object"
            ]
          },
          "metadata": {},
          "execution_count": 10
        }
      ]
    },
    {
      "cell_type": "code",
      "metadata": {
        "id": "2AiHzUXi2Yfw"
      },
      "source": [
        "sentence_length = []\n",
        "count = Counter()\n",
        "for i in df.tweets:\n",
        "  temp = i.split()\n",
        "  sentence_length.append(len(temp))\n",
        "  for j in temp:\n",
        "    count[j] += 1"
      ],
      "execution_count": null,
      "outputs": []
    },
    {
      "cell_type": "code",
      "metadata": {
        "colab": {
          "base_uri": "https://localhost:8080/"
        },
        "id": "5cxYMhvT2jY1",
        "outputId": "886d7d72-5452-45fa-bb9d-7dc5a0b64e3d"
      },
      "source": [
        "num_words = len(count)\n",
        "max_length = max(sentence_length)\n",
        "print('num_words: ',num_words,' max_length: ',max_length)"
      ],
      "execution_count": null,
      "outputs": [
        {
          "output_type": "stream",
          "name": "stdout",
          "text": [
            "num_words:  12895  max_length:  43\n"
          ]
        }
      ]
    },
    {
      "cell_type": "code",
      "metadata": {
        "id": "Oaedjc1-20GQ"
      },
      "source": [
        "from sklearn.model_selection import train_test_split\n",
        "train_tweets,test_tweets,train_label,test_label=train_test_split(df['tweets'],df['sentiment'],test_size=0.20,random_state=1)"
      ],
      "execution_count": null,
      "outputs": []
    },
    {
      "cell_type": "code",
      "metadata": {
        "id": "w5hjV5PU3L_S"
      },
      "source": [
        "tokenizer = Tokenizer(num_words=num_words)\n",
        "tokenizer.fit_on_texts(df['tweets'])\n",
        "word_index = tokenizer.word_index"
      ],
      "execution_count": null,
      "outputs": []
    },
    {
      "cell_type": "code",
      "metadata": {
        "id": "sZM94REZ3fg6"
      },
      "source": [
        "train_text = tokenizer.texts_to_sequences(train_tweets)\n",
        "test_text = tokenizer.texts_to_sequences(test_tweets)"
      ],
      "execution_count": null,
      "outputs": []
    },
    {
      "cell_type": "code",
      "metadata": {
        "id": "6pqvwZFo3otJ"
      },
      "source": [
        "train_padding = pad_sequences(\n",
        "    train_text, maxlen=max_length, padding='post', truncating='post'\n",
        ")\n",
        "test_padding = pad_sequences(\n",
        "    test_text, maxlen=max_length, padding='post', truncating='post'\n",
        ")"
      ],
      "execution_count": null,
      "outputs": []
    },
    {
      "cell_type": "code",
      "metadata": {
        "colab": {
          "base_uri": "https://localhost:8080/"
        },
        "id": "SrFCSBb73syx",
        "outputId": "b3050978-52de-4e47-d125-14d5f9986d91"
      },
      "source": [
        "print(len(train_padding))\n",
        "print(len(test_padding))"
      ],
      "execution_count": null,
      "outputs": [
        {
          "output_type": "stream",
          "name": "stdout",
          "text": [
            "8251\n",
            "2063\n"
          ]
        }
      ]
    },
    {
      "cell_type": "code",
      "metadata": {
        "colab": {
          "base_uri": "https://localhost:8080/"
        },
        "id": "-lcOouuC3u5Q",
        "outputId": "7dd509e2-98b0-4d16-a0e2-fd2af7d77119"
      },
      "source": [
        "#example\n",
        "train_text[0]"
      ],
      "execution_count": null,
      "outputs": [
        {
          "output_type": "execute_result",
          "data": {
            "text/plain": [
              "[13, 1127, 3, 383, 411, 6657]"
            ]
          },
          "metadata": {},
          "execution_count": 18
        }
      ]
    },
    {
      "cell_type": "code",
      "metadata": {
        "colab": {
          "base_uri": "https://localhost:8080/"
        },
        "id": "shhqpVJ-32Ta",
        "outputId": "913abad7-b695-4c27-c637-f403b151424c"
      },
      "source": [
        "#vocabulary\n",
        "tokenizer.word_index"
      ],
      "execution_count": null,
      "outputs": [
        {
          "output_type": "execute_result",
          "data": {
            "text/plain": [
              "{'i': 1,\n",
              " 'depression': 2,\n",
              " 'get': 3,\n",
              " 'go': 4,\n",
              " 'good': 5,\n",
              " 'love': 6,\n",
              " 'like': 7,\n",
              " 'make': 8,\n",
              " 'day': 9,\n",
              " 'know': 10,\n",
              " 'think': 11,\n",
              " 'see': 12,\n",
              " 'time': 13,\n",
              " 'thank': 14,\n",
              " 'u': 15,\n",
              " 'new': 16,\n",
              " 'the': 17,\n",
              " 'one': 18,\n",
              " 'feel': 19,\n",
              " 'lol': 20,\n",
              " 'great': 21,\n",
              " 'work': 22,\n",
              " 'back': 23,\n",
              " 'come': 24,\n",
              " 'take': 25,\n",
              " 'really': 26,\n",
              " 'you': 27,\n",
              " 'im': 28,\n",
              " 'want': 29,\n",
              " 'watch': 30,\n",
              " 'happy': 31,\n",
              " 'need': 32,\n",
              " 'say': 33,\n",
              " 'people': 34,\n",
              " 'much': 35,\n",
              " 'look': 36,\n",
              " 'anxiety': 37,\n",
              " 'today': 38,\n",
              " 'hope': 39,\n",
              " 'my': 40,\n",
              " 'would': 41,\n",
              " 'try': 42,\n",
              " 'well': 43,\n",
              " 'help': 44,\n",
              " 'just': 45,\n",
              " 'and': 46,\n",
              " 'use': 47,\n",
              " 'still': 48,\n",
              " 'last': 49,\n",
              " 'night': 50,\n",
              " 'twitter': 51,\n",
              " 'wait': 52,\n",
              " 'even': 53,\n",
              " 'haha': 54,\n",
              " 'oh': 55,\n",
              " 'never': 56,\n",
              " 'life': 57,\n",
              " 'way': 58,\n",
              " 'gonna': 59,\n",
              " 'give': 60,\n",
              " 'better': 61,\n",
              " 'it': 62,\n",
              " 'nice': 63,\n",
              " 'follow': 64,\n",
              " 'morning': 65,\n",
              " 'hey': 66,\n",
              " 'do': 67,\n",
              " 'right': 68,\n",
              " 'find': 69,\n",
              " 'everyone': 70,\n",
              " 'fun': 71,\n",
              " 'best': 72,\n",
              " 'home': 73,\n",
              " 'start': 74,\n",
              " 'first': 75,\n",
              " 'talk': 76,\n",
              " 'let': 77,\n",
              " 'someone': 78,\n",
              " 'so': 79,\n",
              " 'us': 80,\n",
              " 'eat': 81,\n",
              " 'tell': 82,\n",
              " 'tweet': 83,\n",
              " 'could': 84,\n",
              " 'keep': 85,\n",
              " 'show': 86,\n",
              " 'we': 87,\n",
              " 'how': 88,\n",
              " 'guy': 89,\n",
              " 'thanks': 90,\n",
              " 'mental': 91,\n",
              " 'check': 92,\n",
              " 'please': 93,\n",
              " 'something': 94,\n",
              " 'sure': 95,\n",
              " 'miss': 96,\n",
              " 'enjoy': 97,\n",
              " 'have': 98,\n",
              " 'ready': 99,\n",
              " 'always': 100,\n",
              " 'next': 101,\n",
              " 'read': 102,\n",
              " 'call': 103,\n",
              " 'but': 104,\n",
              " 'sleep': 105,\n",
              " 'things': 106,\n",
              " 'glad': 107,\n",
              " 'face': 108,\n",
              " 'this': 109,\n",
              " 'what': 110,\n",
              " 'ur': 111,\n",
              " 'live': 112,\n",
              " 'long': 113,\n",
              " 'wish': 114,\n",
              " 'is': 115,\n",
              " 'play': 116,\n",
              " 'if': 117,\n",
              " 'bed': 118,\n",
              " 'post': 119,\n",
              " 'bad': 120,\n",
              " 'may': 121,\n",
              " 'tomorrow': 122,\n",
              " 'real': 123,\n",
              " 'listen': 124,\n",
              " 'lot': 125,\n",
              " 'hear': 126,\n",
              " 'every': 127,\n",
              " 'cause': 128,\n",
              " 'not': 129,\n",
              " 'that': 130,\n",
              " 'leave': 131,\n",
              " 'thing': 132,\n",
              " 'a': 133,\n",
              " 'pretty': 134,\n",
              " 'ever': 135,\n",
              " 'little': 136,\n",
              " 'yeah': 137,\n",
              " 'awesome': 138,\n",
              " 'maybe': 139,\n",
              " 'friends': 140,\n",
              " 'another': 141,\n",
              " 'days': 142,\n",
              " 'many': 143,\n",
              " 'finally': 144,\n",
              " 'fuck': 145,\n",
              " 'big': 146,\n",
              " 'cure': 147,\n",
              " 'cool': 148,\n",
              " 'suffer': 149,\n",
              " 'school': 150,\n",
              " 'stop': 151,\n",
              " 'also': 152,\n",
              " 'buy': 153,\n",
              " 'actually': 154,\n",
              " 'hard': 155,\n",
              " 'world': 156,\n",
              " 'ok': 157,\n",
              " 'x': 158,\n",
              " 'mean': 159,\n",
              " 'nothing': 160,\n",
              " 'excite': 161,\n",
              " 'around': 162,\n",
              " 'on': 163,\n",
              " 'wanna': 164,\n",
              " 'sun': 165,\n",
              " 'song': 166,\n",
              " 'weekend': 167,\n",
              " 'already': 168,\n",
              " 'hit': 169,\n",
              " 'beautiful': 170,\n",
              " 'no': 171,\n",
              " 'amaze': 172,\n",
              " 'add': 173,\n",
              " 'two': 174,\n",
              " 'music': 175,\n",
              " 'god': 176,\n",
              " 'write': 177,\n",
              " 'house': 178,\n",
              " 'meet': 179,\n",
              " 'hi': 180,\n",
              " 'might': 181,\n",
              " 'in': 182,\n",
              " 'via': 183,\n",
              " 'cry': 184,\n",
              " 'dont': 185,\n",
              " 'end': 186,\n",
              " 'tonight': 187,\n",
              " 'week': 188,\n",
              " 'study': 189,\n",
              " 'n': 190,\n",
              " 'though': 191,\n",
              " 'yes': 192,\n",
              " 'sound': 193,\n",
              " 'at': 194,\n",
              " 'care': 195,\n",
              " 'almost': 196,\n",
              " 'to': 197,\n",
              " 'send': 198,\n",
              " 'year': 199,\n",
              " 'friend': 200,\n",
              " 'put': 201,\n",
              " 'wake': 202,\n",
              " 'happen': 203,\n",
              " 'game': 204,\n",
              " 'bring': 205,\n",
              " 'person': 206,\n",
              " 'least': 207,\n",
              " 'cant': 208,\n",
              " 'drink': 209,\n",
              " 'lose': 210,\n",
              " 'free': 211,\n",
              " 'old': 212,\n",
              " 'ya': 213,\n",
              " 'now': 214,\n",
              " 'health': 215,\n",
              " 'stay': 216,\n",
              " 'ask': 217,\n",
              " 'sorry': 218,\n",
              " 'hours': 219,\n",
              " 'movie': 220,\n",
              " 'head': 221,\n",
              " 'struggle': 222,\n",
              " 'job': 223,\n",
              " 'birthday': 224,\n",
              " 'thats': 225,\n",
              " 'stuff': 226,\n",
              " 'shit': 227,\n",
              " 'man': 228,\n",
              " 'pay': 229,\n",
              " 'learn': 230,\n",
              " 'totally': 231,\n",
              " 'anyone': 232,\n",
              " 'deal': 233,\n",
              " 'summer': 234,\n",
              " 'since': 235,\n",
              " 'your': 236,\n",
              " 'bite': 237,\n",
              " 'away': 238,\n",
              " 'support': 239,\n",
              " 'later': 240,\n",
              " 'forget': 241,\n",
              " 'guess': 242,\n",
              " 'years': 243,\n",
              " 'going': 244,\n",
              " 'for': 245,\n",
              " 'turn': 246,\n",
              " 'break': 247,\n",
              " 'till': 248,\n",
              " 'hand': 249,\n",
              " 'hello': 250,\n",
              " 'book': 251,\n",
              " 'its': 252,\n",
              " 'family': 253,\n",
              " 'finish': 254,\n",
              " 'me': 255,\n",
              " 'fight': 256,\n",
              " 'hate': 257,\n",
              " 'run': 258,\n",
              " 'all': 259,\n",
              " 'xx': 260,\n",
              " 'video': 261,\n",
              " 'remember': 262,\n",
              " 'saw': 263,\n",
              " 'join': 264,\n",
              " 'they': 265,\n",
              " 'nap': 266,\n",
              " 'girl': 267,\n",
              " 'will': 268,\n",
              " 'watching': 269,\n",
              " 'party': 270,\n",
              " 'without': 271,\n",
              " 'sign': 272,\n",
              " 'food': 273,\n",
              " 'soon': 274,\n",
              " 'mom': 275,\n",
              " 'yay': 276,\n",
              " 'smile': 277,\n",
              " 'sweet': 278,\n",
              " 'early': 279,\n",
              " 'forward': 280,\n",
              " 'change': 281,\n",
              " 'when': 282,\n",
              " 'share': 283,\n",
              " 'whole': 284,\n",
              " 'risk': 285,\n",
              " 'everything': 286,\n",
              " 'cute': 287,\n",
              " 'place': 288,\n",
              " 'welcome': 289,\n",
              " 'plan': 290,\n",
              " 'kid': 291,\n",
              " 'seem': 292,\n",
              " 'stress': 293,\n",
              " 'mind': 294,\n",
              " 'anything': 295,\n",
              " 'got': 296,\n",
              " 'hair': 297,\n",
              " 'train': 298,\n",
              " 'win': 299,\n",
              " 'sit': 300,\n",
              " 'shop': 301,\n",
              " 'she': 302,\n",
              " 'part': 303,\n",
              " 'reason': 304,\n",
              " 'goodnight': 305,\n",
              " 'open': 306,\n",
              " 'hot': 307,\n",
              " 'believe': 308,\n",
              " 'enough': 309,\n",
              " 'drive': 310,\n",
              " 'rain': 311,\n",
              " 'why': 312,\n",
              " 'baby': 313,\n",
              " 'quite': 314,\n",
              " 'lovely': 315,\n",
              " 'must': 316,\n",
              " 'followers': 317,\n",
              " 'funny': 318,\n",
              " 'cut': 319,\n",
              " 'experience': 320,\n",
              " 'dinner': 321,\n",
              " 'tie': 322,\n",
              " 'blog': 323,\n",
              " 'red': 324,\n",
              " 'ill': 325,\n",
              " 'spend': 326,\n",
              " 'up': 327,\n",
              " 'move': 328,\n",
              " 'he': 329,\n",
              " 'with': 330,\n",
              " 'luck': 331,\n",
              " 'else': 332,\n",
              " 'exercise': 333,\n",
              " 'wow': 334,\n",
              " 'definitely': 335,\n",
              " 'weather': 336,\n",
              " 'picture': 337,\n",
              " 'fan': 338,\n",
              " 'link': 339,\n",
              " 'update': 340,\n",
              " 'phone': 341,\n",
              " 'speak': 342,\n",
              " 'interest': 343,\n",
              " 'probably': 344,\n",
              " 'social': 345,\n",
              " 'june': 346,\n",
              " 'r': 347,\n",
              " 'sad': 348,\n",
              " 'coffee': 349,\n",
              " 'late': 350,\n",
              " 'pic': 351,\n",
              " 'understand': 352,\n",
              " 'sunday': 353,\n",
              " 'of': 354,\n",
              " 'gotta': 355,\n",
              " 'ass': 356,\n",
              " 'idea': 357,\n",
              " 'development': 358,\n",
              " 'skin': 359,\n",
              " 'loudly': 360,\n",
              " 'busy': 361,\n",
              " 'more': 362,\n",
              " 'wonder': 363,\n",
              " 'visit': 364,\n",
              " 'rest': 365,\n",
              " 'decide': 366,\n",
              " 'friday': 367,\n",
              " 'tear': 368,\n",
              " 'set': 369,\n",
              " 'lmao': 370,\n",
              " 'can': 371,\n",
              " 'save': 372,\n",
              " 'crazy': 373,\n",
              " 'are': 374,\n",
              " 'vote': 375,\n",
              " 'had': 376,\n",
              " 'walk': 377,\n",
              " 'hopefully': 378,\n",
              " 'dream': 379,\n",
              " 'bout': 380,\n",
              " 'name': 381,\n",
              " 'fall': 382,\n",
              " 'outside': 383,\n",
              " 'super': 384,\n",
              " 'omg': 385,\n",
              " 'email': 386,\n",
              " 'mine': 387,\n",
              " 'class': 388,\n",
              " 'point': 389,\n",
              " 'suicide': 390,\n",
              " 'illness': 391,\n",
              " 'intellectual': 392,\n",
              " 'wear': 393,\n",
              " 'laugh': 394,\n",
              " 'trip': 395,\n",
              " 'tire': 396,\n",
              " 'deserve': 397,\n",
              " 'rock': 398,\n",
              " 'pick': 399,\n",
              " 'okay': 400,\n",
              " 'mother': 401,\n",
              " 'easy': 402,\n",
              " 'as': 403,\n",
              " 'severe': 404,\n",
              " 'able': 405,\n",
              " 'worth': 406,\n",
              " 'favorite': 407,\n",
              " 'appreciate': 408,\n",
              " 'especially': 409,\n",
              " 'fix': 410,\n",
              " 'yet': 411,\n",
              " 'self': 412,\n",
              " 'side': 413,\n",
              " 'second': 414,\n",
              " 'full': 415,\n",
              " 'mood': 416,\n",
              " 'thoughts': 417,\n",
              " 'lead': 418,\n",
              " 'once': 419,\n",
              " 'room': 420,\n",
              " 'am': 421,\n",
              " 'word': 422,\n",
              " 'congrats': 423,\n",
              " 'catch': 424,\n",
              " 'sing': 425,\n",
              " 'hahaha': 426,\n",
              " 'damn': 427,\n",
              " 'monday': 428,\n",
              " 'album': 429,\n",
              " 'kind': 430,\n",
              " 'off': 431,\n",
              " 'saturday': 432,\n",
              " 'symptoms': 433,\n",
              " 'ha': 434,\n",
              " 'there': 435,\n",
              " 'true': 436,\n",
              " 'pass': 437,\n",
              " 'children': 438,\n",
              " 'state': 439,\n",
              " 'beat': 440,\n",
              " 'car': 441,\n",
              " 'only': 442,\n",
              " 'hang': 443,\n",
              " 'worry': 444,\n",
              " 'become': 445,\n",
              " 'yesterday': 446,\n",
              " 'kinda': 447,\n",
              " 'past': 448,\n",
              " 'dark': 449,\n",
              " 'far': 450,\n",
              " 'cold': 451,\n",
              " 'money': 452,\n",
              " 'treat': 453,\n",
              " 'heart': 454,\n",
              " 'brain': 455,\n",
              " 'ice': 456,\n",
              " 'hurt': 457,\n",
              " 'course': 458,\n",
              " 'die': 459,\n",
              " 'cook': 460,\n",
              " 'b': 461,\n",
              " 'concert': 462,\n",
              " 'heavy': 463,\n",
              " 'bitch': 464,\n",
              " 'smiling': 465,\n",
              " 'top': 466,\n",
              " 'reply': 467,\n",
              " 'bless': 468,\n",
              " 'having': 469,\n",
              " 'low': 470,\n",
              " 'be': 471,\n",
              " 'lunch': 472,\n",
              " 'wed': 473,\n",
              " 'kill': 474,\n",
              " 'didnt': 475,\n",
              " 'relax': 476,\n",
              " 'sometimes': 477,\n",
              " 'depress': 478,\n",
              " 'sooo': 479,\n",
              " 'wonderful': 480,\n",
              " 'getting': 481,\n",
              " 'recommend': 482,\n",
              " 'black': 483,\n",
              " 'worst': 484,\n",
              " 'joke': 485,\n",
              " 'therapy': 486,\n",
              " 'disorder': 487,\n",
              " 'shower': 488,\n",
              " 'record': 489,\n",
              " 'wrong': 490,\n",
              " 'kick': 491,\n",
              " 'clean': 492,\n",
              " 'lucky': 493,\n",
              " 'star': 494,\n",
              " 'type': 495,\n",
              " 'research': 496,\n",
              " 'chance': 497,\n",
              " 'ppl': 498,\n",
              " 'deep': 499,\n",
              " 'blue': 500,\n",
              " 'stick': 501,\n",
              " 'battle': 502,\n",
              " 'white': 503,\n",
              " 'pack': 504,\n",
              " 'girls': 505,\n",
              " 'online': 506,\n",
              " 'vip': 507,\n",
              " 'drug': 508,\n",
              " 'chronic': 509,\n",
              " 'number': 510,\n",
              " 'page': 511,\n",
              " 'positive': 512,\n",
              " 'band': 513,\n",
              " 'dog': 514,\n",
              " 'light': 515,\n",
              " 'answer': 516,\n",
              " 'fact': 517,\n",
              " 'half': 518,\n",
              " 'hehe': 519,\n",
              " 'cat': 520,\n",
              " 'breakfast': 521,\n",
              " 'anyway': 522,\n",
              " 'hell': 523,\n",
              " 'did': 524,\n",
              " 'college': 525,\n",
              " 'high': 526,\n",
              " 'movies': 527,\n",
              " 'glass': 528,\n",
              " 'proud': 529,\n",
              " 'cuz': 530,\n",
              " 'xd': 531,\n",
              " 'issue': 532,\n",
              " 'bc': 533,\n",
              " 'pain': 534,\n",
              " 'ago': 535,\n",
              " 'figure': 536,\n",
              " 'serious': 537,\n",
              " 'ease': 538,\n",
              " 'offer': 539,\n",
              " 'here': 540,\n",
              " 'afternoon': 541,\n",
              " 'was': 542,\n",
              " 'realize': 543,\n",
              " 'question': 544,\n",
              " 'honestly': 545,\n",
              " 'avoid': 546,\n",
              " 'felt': 547,\n",
              " 'order': 548,\n",
              " 'attack': 549,\n",
              " 'major': 550,\n",
              " 'include': 551,\n",
              " 'cripple': 552,\n",
              " 'develop': 553,\n",
              " 'xoxo': 554,\n",
              " 'facebook': 555,\n",
              " 'sunny': 556,\n",
              " 'goin': 557,\n",
              " 'beach': 558,\n",
              " 'safe': 559,\n",
              " 'promise': 560,\n",
              " 'together': 561,\n",
              " 'short': 562,\n",
              " 'luv': 563,\n",
              " 'story': 564,\n",
              " 'la': 565,\n",
              " 'hug': 566,\n",
              " 'or': 567,\n",
              " 'perfect': 568,\n",
              " 'then': 569,\n",
              " 'along': 570,\n",
              " 'exactly': 571,\n",
              " 'site': 572,\n",
              " 'power': 573,\n",
              " 'others': 574,\n",
              " 'songs': 575,\n",
              " 'war': 576,\n",
              " 'tv': 577,\n",
              " 'bipolar': 578,\n",
              " 'suicidal': 579,\n",
              " 'cannabis': 580,\n",
              " 'looking': 581,\n",
              " 'weeks': 582,\n",
              " 'dance': 583,\n",
              " 'less': 584,\n",
              " 'business': 585,\n",
              " 'single': 586,\n",
              " 'fly': 587,\n",
              " 'parent': 588,\n",
              " 'comment': 589,\n",
              " 'men': 590,\n",
              " 'ones': 591,\n",
              " 'pray': 592,\n",
              " 'fit': 593,\n",
              " 'tea': 594,\n",
              " 'poor': 595,\n",
              " 'bore': 596,\n",
              " 'boy': 597,\n",
              " 'message': 598,\n",
              " 'about': 599,\n",
              " 'three': 600,\n",
              " 'very': 601,\n",
              " 'jonas': 602,\n",
              " 'matter': 603,\n",
              " 'test': 604,\n",
              " 'soo': 605,\n",
              " 'whatever': 606,\n",
              " 'suck': 607,\n",
              " 'drop': 608,\n",
              " 'team': 609,\n",
              " 'age': 610,\n",
              " 'instead': 611,\n",
              " 'til': 612,\n",
              " 'hold': 613,\n",
              " 'season': 614,\n",
              " 'huge': 615,\n",
              " 'btw': 616,\n",
              " 'film': 617,\n",
              " 'dad': 618,\n",
              " 'fine': 619,\n",
              " 'everybody': 620,\n",
              " 'bom': 621,\n",
              " 'body': 622,\n",
              " 'news': 623,\n",
              " 'step': 624,\n",
              " 'doctor': 625,\n",
              " 'chat': 626,\n",
              " 'after': 627,\n",
              " 'design': 628,\n",
              " 'due': 629,\n",
              " 'episode': 630,\n",
              " 'water': 631,\n",
              " 'who': 632,\n",
              " 'remind': 633,\n",
              " 'hop': 634,\n",
              " 'list': 635,\n",
              " 'cannot': 636,\n",
              " 'some': 637,\n",
              " 'interview': 638,\n",
              " 'rt': 639,\n",
              " 'death': 640,\n",
              " 'nite': 641,\n",
              " 'create': 642,\n",
              " 'miley': 643,\n",
              " 'xxx': 644,\n",
              " 'tho': 645,\n",
              " 'clear': 646,\n",
              " 'case': 647,\n",
              " 'suggest': 648,\n",
              " 'often': 649,\n",
              " 'increase': 650,\n",
              " 'cover': 651,\n",
              " 'garden': 652,\n",
              " 'piece': 653,\n",
              " 'stupid': 654,\n",
              " 'hour': 655,\n",
              " 'rise': 656,\n",
              " 'problem': 657,\n",
              " 'brothers': 658,\n",
              " 'guitar': 659,\n",
              " 'shall': 660,\n",
              " 'young': 661,\n",
              " 'our': 662,\n",
              " 'manage': 663,\n",
              " 'text': 664,\n",
              " 'sort': 665,\n",
              " 'months': 666,\n",
              " 'raise': 667,\n",
              " 'daily': 668,\n",
              " 'relate': 669,\n",
              " 'heal': 670,\n",
              " 'affect': 671,\n",
              " 'problems': 672,\n",
              " 'either': 673,\n",
              " 'literally': 674,\n",
              " 'contact': 675,\n",
              " 'agree': 676,\n",
              " 'da': 677,\n",
              " 'aww': 678,\n",
              " 'dress': 679,\n",
              " 'seriously': 680,\n",
              " 'close': 681,\n",
              " 'cos': 682,\n",
              " 'july': 683,\n",
              " 'nights': 684,\n",
              " 'ah': 685,\n",
              " 'weight': 686,\n",
              " 'choose': 687,\n",
              " 'account': 688,\n",
              " 'wont': 689,\n",
              " 'mix': 690,\n",
              " 'panic': 691,\n",
              " 'push': 692,\n",
              " 'chill': 693,\n",
              " 'sick': 694,\n",
              " 'office': 695,\n",
              " 'media': 696,\n",
              " 'dm': 697,\n",
              " 'park': 698,\n",
              " 'absolutely': 699,\n",
              " 'lower': 700,\n",
              " 'attention': 701,\n",
              " 'million': 702,\n",
              " 'addiction': 703,\n",
              " 'teens': 704,\n",
              " 'physical': 705,\n",
              " 'awww': 706,\n",
              " 'admit': 707,\n",
              " 'level': 708,\n",
              " 'myspace': 709,\n",
              " 'result': 710,\n",
              " 'thx': 711,\n",
              " 'road': 712,\n",
              " 'sounds': 713,\n",
              " 'beer': 714,\n",
              " 'truly': 715,\n",
              " 'teach': 716,\n",
              " 'bday': 717,\n",
              " 'green': 718,\n",
              " 'build': 719,\n",
              " 'awake': 720,\n",
              " 'surprise': 721,\n",
              " 'blame': 722,\n",
              " 'suppose': 723,\n",
              " 'longer': 724,\n",
              " 'pls': 725,\n",
              " 'special': 726,\n",
              " 'been': 727,\n",
              " 'out': 728,\n",
              " 'city': 729,\n",
              " 'holiday': 730,\n",
              " 'continue': 731,\n",
              " 'fill': 732,\n",
              " 'tour': 733,\n",
              " 'w': 734,\n",
              " 'podcast': 735,\n",
              " 'personal': 736,\n",
              " 'explain': 737,\n",
              " 'month': 738,\n",
              " 'effect': 739,\n",
              " 'by': 740,\n",
              " 'lakers': 741,\n",
              " 'mouth': 742,\n",
              " 'nobody': 743,\n",
              " 'woman': 744,\n",
              " 'trigger': 745,\n",
              " 'relationship': 746,\n",
              " 'women': 747,\n",
              " 'important': 748,\n",
              " 'clinical': 749,\n",
              " 'diagnose': 750,\n",
              " 'prevent': 751,\n",
              " 'medication': 752,\n",
              " 'track': 753,\n",
              " 'website': 754,\n",
              " 'moon': 755,\n",
              " 'roll': 756,\n",
              " 'paint': 757,\n",
              " 'moment': 758,\n",
              " 'different': 759,\n",
              " 'trouble': 760,\n",
              " 'couple': 761,\n",
              " 'smoke': 762,\n",
              " 'where': 763,\n",
              " 'dude': 764,\n",
              " 'date': 765,\n",
              " 'def': 766,\n",
              " 'ticket': 767,\n",
              " 'photo': 768,\n",
              " 'fantastic': 769,\n",
              " 'whats': 770,\n",
              " 'art': 771,\n",
              " 'internet': 772,\n",
              " 'web': 773,\n",
              " 'line': 774,\n",
              " 'round': 775,\n",
              " 'mention': 776,\n",
              " 'accept': 777,\n",
              " 'lil': 778,\n",
              " 'force': 779,\n",
              " 'ride': 780,\n",
              " 'worse': 781,\n",
              " 'group': 782,\n",
              " 'eye': 783,\n",
              " 'shoot': 784,\n",
              " 'because': 785,\n",
              " 'smell': 786,\n",
              " 'pull': 787,\n",
              " 'yall': 788,\n",
              " 'etc': 789,\n",
              " 'behind': 790,\n",
              " 'article': 791,\n",
              " 'listening': 792,\n",
              " 'lack': 793,\n",
              " 'trying': 794,\n",
              " 'idk': 795,\n",
              " 'grow': 796,\n",
              " 'term': 797,\n",
              " 'imagine': 798,\n",
              " 'medical': 799,\n",
              " 'woo': 800,\n",
              " 'touch': 801,\n",
              " 'congratulations': 802,\n",
              " 'sunshine': 803,\n",
              " 'asleep': 804,\n",
              " 'upload': 805,\n",
              " 'project': 806,\n",
              " 'computer': 807,\n",
              " 'front': 808,\n",
              " 'nearly': 809,\n",
              " 'rid': 810,\n",
              " 'cream': 811,\n",
              " 'pop': 812,\n",
              " 'rather': 813,\n",
              " 'bear': 814,\n",
              " 'market': 815,\n",
              " 'process': 816,\n",
              " 'boys': 817,\n",
              " 'service': 818,\n",
              " 'hat': 819,\n",
              " 'history': 820,\n",
              " 'from': 821,\n",
              " 'mothers': 822,\n",
              " 'act': 823,\n",
              " 'view': 824,\n",
              " 'strong': 825,\n",
              " 'normal': 826,\n",
              " 'doubt': 827,\n",
              " 'cake': 828,\n",
              " 'quit': 829,\n",
              " 'discuss': 830,\n",
              " 'ruin': 831,\n",
              " 'control': 832,\n",
              " 'lonely': 833,\n",
              " 'alone': 834,\n",
              " 'sex': 835,\n",
              " 'reduce': 836,\n",
              " 'weary': 837,\n",
              " 'lady': 838,\n",
              " 'bank': 839,\n",
              " 'cross': 840,\n",
              " 'too': 841,\n",
              " 'sister': 842,\n",
              " 'fresh': 843,\n",
              " 'model': 844,\n",
              " 'mad': 845,\n",
              " 'finger': 846,\n",
              " 'london': 847,\n",
              " 'card': 848,\n",
              " 'usually': 849,\n",
              " 'bet': 850,\n",
              " 'playlist': 851,\n",
              " 'alot': 852,\n",
              " 'iphone': 853,\n",
              " 'arrive': 854,\n",
              " 'unless': 855,\n",
              " 'double': 856,\n",
              " 'bar': 857,\n",
              " 'greatest': 858,\n",
              " 'david': 859,\n",
              " 'radio': 860,\n",
              " 'peace': 861,\n",
              " 'color': 862,\n",
              " 'doing': 863,\n",
              " 'hide': 864,\n",
              " 'mtv': 865,\n",
              " 'search': 866,\n",
              " 'soooo': 867,\n",
              " 'fat': 868,\n",
              " 'secret': 869,\n",
              " 'improve': 870,\n",
              " 'shake': 871,\n",
              " 'final': 872,\n",
              " 'hows': 873,\n",
              " 'tom': 874,\n",
              " 'actual': 875,\n",
              " 'pink': 876,\n",
              " 'joy': 877,\n",
              " 'entire': 878,\n",
              " 'south': 879,\n",
              " 'small': 880,\n",
              " 'dear': 881,\n",
              " 'pool': 882,\n",
              " 'ive': 883,\n",
              " 'trust': 884,\n",
              " 'most': 885,\n",
              " 'swim': 886,\n",
              " 'child': 887,\n",
              " 'condition': 888,\n",
              " 'exercising': 889,\n",
              " 'regularly': 890,\n",
              " 'overcome': 891,\n",
              " 'em': 892,\n",
              " 'voice': 893,\n",
              " 'havent': 894,\n",
              " 'notice': 895,\n",
              " 'finished': 896,\n",
              " 'beyond': 897,\n",
              " 'massive': 898,\n",
              " 'street': 899,\n",
              " 'mall': 900,\n",
              " 'app': 901,\n",
              " 'perhaps': 902,\n",
              " 'cheer': 903,\n",
              " 'heading': 904,\n",
              " 'ways': 905,\n",
              " 'town': 906,\n",
              " 'energy': 907,\n",
              " 'yo': 908,\n",
              " 'straight': 909,\n",
              " 'annoy': 910,\n",
              " 'aw': 911,\n",
              " 'difficult': 912,\n",
              " 'wall': 913,\n",
              " 'fast': 914,\n",
              " 'middle': 915,\n",
              " 'bright': 916,\n",
              " 'uk': 917,\n",
              " 'bike': 918,\n",
              " 'graduation': 919,\n",
              " 'wine': 920,\n",
              " 'cd': 921,\n",
              " 'youtube': 922,\n",
              " 'hahahaha': 923,\n",
              " 'minutes': 924,\n",
              " 'inspire': 925,\n",
              " 'fake': 926,\n",
              " 'fully': 927,\n",
              " 'challenge': 928,\n",
              " 'playing': 929,\n",
              " 'aint': 930,\n",
              " 'base': 931,\n",
              " 'fav': 932,\n",
              " 'carry': 933,\n",
              " 'consider': 934,\n",
              " 'amazing': 935,\n",
              " 'sims': 936,\n",
              " 'working': 937,\n",
              " 'bother': 938,\n",
              " 'lift': 939,\n",
              " 'shoe': 940,\n",
              " 'involve': 941,\n",
              " 'focus': 942,\n",
              " 'gay': 943,\n",
              " 'allow': 944,\n",
              " 'lay': 945,\n",
              " 'spread': 946,\n",
              " 'wild': 947,\n",
              " 'human': 948,\n",
              " 'should': 949,\n",
              " 'drag': 950,\n",
              " 'stand': 951,\n",
              " 'currently': 952,\n",
              " 'scar': 953,\n",
              " 'exam': 954,\n",
              " 'brother': 955,\n",
              " 'making': 956,\n",
              " 'note': 957,\n",
              " 'spot': 958,\n",
              " 'session': 959,\n",
              " 'whether': 960,\n",
              " 'highly': 961,\n",
              " 'higher': 962,\n",
              " 'meds': 963,\n",
              " 'treatment': 964,\n",
              " 'harm': 965,\n",
              " 'decrease': 966,\n",
              " 'rn': 967,\n",
              " 'researchers': 968,\n",
              " 'patients': 969,\n",
              " 'those': 970,\n",
              " 'background': 971,\n",
              " 'modern': 972,\n",
              " 'bunch': 973,\n",
              " 'older': 974,\n",
              " 'pm': 975,\n",
              " 'any': 976,\n",
              " 'excellent': 977,\n",
              " 'looks': 978,\n",
              " 'weird': 979,\n",
              " 'church': 980,\n",
              " 'wife': 981,\n",
              " 'twit': 982,\n",
              " 'hahah': 983,\n",
              " 'waste': 984,\n",
              " 'pizza': 985,\n",
              " 'burn': 986,\n",
              " 'fell': 987,\n",
              " 'mum': 988,\n",
              " 'bbq': 989,\n",
              " 'air': 990,\n",
              " 'c': 991,\n",
              " 'present': 992,\n",
              " 'chocolate': 993,\n",
              " 'mac': 994,\n",
              " 'bag': 995,\n",
              " 'nervous': 996,\n",
              " 'prefer': 997,\n",
              " 'terrible': 998,\n",
              " 'draw': 999,\n",
              " 'camera': 1000,\n",
              " ...}"
            ]
          },
          "metadata": {},
          "execution_count": 19
        }
      ]
    },
    {
      "cell_type": "code",
      "metadata": {
        "colab": {
          "base_uri": "https://localhost:8080/"
        },
        "id": "Uzd-uAH8Byok",
        "outputId": "7a647df6-a874-4093-edea-40a94931f822"
      },
      "source": [
        "#Vocabulary_length\n",
        "voc_length=len(tokenizer.word_index)\n",
        "print(voc_length)"
      ],
      "execution_count": null,
      "outputs": [
        {
          "output_type": "stream",
          "name": "stdout",
          "text": [
            "10510\n"
          ]
        }
      ]
    },
    {
      "cell_type": "code",
      "metadata": {
        "colab": {
          "base_uri": "https://localhost:8080/"
        },
        "id": "IcMstTLg4KlO",
        "outputId": "ece78384-e14c-4320-dd7f-5161713fd64b"
      },
      "source": [
        "train_padding.shape"
      ],
      "execution_count": null,
      "outputs": [
        {
          "output_type": "execute_result",
          "data": {
            "text/plain": [
              "(8251, 43)"
            ]
          },
          "metadata": {},
          "execution_count": 21
        }
      ]
    },
    {
      "cell_type": "code",
      "metadata": {
        "colab": {
          "base_uri": "https://localhost:8080/"
        },
        "id": "3lqXm4484fHp",
        "outputId": "71498c4f-2ee1-4afe-a87e-e9e94c360580"
      },
      "source": [
        "test_padding.shape"
      ],
      "execution_count": null,
      "outputs": [
        {
          "output_type": "execute_result",
          "data": {
            "text/plain": [
              "(2063, 43)"
            ]
          },
          "metadata": {},
          "execution_count": 22
        }
      ]
    },
    {
      "cell_type": "code",
      "metadata": {
        "colab": {
          "base_uri": "https://localhost:8080/"
        },
        "id": "00X_rOfY4oFw",
        "outputId": "3b20717a-0ae9-4714-d04b-d3ade9e18f86"
      },
      "source": [
        "train_padding[0]"
      ],
      "execution_count": null,
      "outputs": [
        {
          "output_type": "execute_result",
          "data": {
            "text/plain": [
              "array([  13, 1127,    3,  383,  411, 6657,    0,    0,    0,    0,    0,\n",
              "          0,    0,    0,    0,    0,    0,    0,    0,    0,    0,    0,\n",
              "          0,    0,    0,    0,    0,    0,    0,    0,    0,    0,    0,\n",
              "          0,    0,    0,    0,    0,    0,    0,    0,    0,    0],\n",
              "      dtype=int32)"
            ]
          },
          "metadata": {},
          "execution_count": 23
        }
      ]
    },
    {
      "cell_type": "code",
      "metadata": {
        "colab": {
          "base_uri": "https://localhost:8080/"
        },
        "id": "kt3IDeFK4xfx",
        "outputId": "c7be0230-d9d9-405f-e890-6220c6fe834c"
      },
      "source": [
        "test_padding[4]"
      ],
      "execution_count": null,
      "outputs": [
        {
          "output_type": "execute_result",
          "data": {
            "text/plain": [
              "array([   1, 3874,    1,   64,  143,   34,    1,   76,   70,   64,   76,\n",
              "          0,    0,    0,    0,    0,    0,    0,    0,    0,    0,    0,\n",
              "          0,    0,    0,    0,    0,    0,    0,    0,    0,    0,    0,\n",
              "          0,    0,    0,    0,    0,    0,    0,    0,    0,    0],\n",
              "      dtype=int32)"
            ]
          },
          "metadata": {},
          "execution_count": 24
        }
      ]
    },
    {
      "cell_type": "markdown",
      "metadata": {
        "id": "jwDY73kp75zz"
      },
      "source": [
        "***Inversse Tokenizer***"
      ]
    },
    {
      "cell_type": "code",
      "metadata": {
        "id": "Mh3AOVf06E8z"
      },
      "source": [
        "idx = tokenizer.word_index\n",
        "inverse_map = dict(zip(idx.values(), idx.keys()))"
      ],
      "execution_count": null,
      "outputs": []
    },
    {
      "cell_type": "code",
      "metadata": {
        "id": "g971i52t6KVq"
      },
      "source": [
        "def tokens_to_string(tokens):\n",
        "    # Map from tokens back to words.\n",
        "    words = [inverse_map[token] for token in tokens if token != 0]\n",
        "    \n",
        "    # Concatenate all words.\n",
        "    text = \" \".join(words)\n",
        "\n",
        "    return text"
      ],
      "execution_count": null,
      "outputs": []
    },
    {
      "cell_type": "code",
      "metadata": {
        "colab": {
          "base_uri": "https://localhost:8080/"
        },
        "id": "PYl60zHe5OZX",
        "outputId": "3a7c8537-a809-42d6-9ab2-0d0b556bd2fa"
      },
      "source": [
        "train_text[0]"
      ],
      "execution_count": null,
      "outputs": [
        {
          "output_type": "execute_result",
          "data": {
            "text/plain": [
              "[13, 1127, 3, 383, 411, 6657]"
            ]
          },
          "metadata": {},
          "execution_count": 27
        }
      ]
    },
    {
      "cell_type": "code",
      "metadata": {
        "colab": {
          "base_uri": "https://localhost:8080/",
          "height": 36
        },
        "id": "TpMkPBcO5U0w",
        "outputId": "9b90a412-83f5-44a9-cc36-176d48fcd260"
      },
      "source": [
        "tokens_to_string(train_text[0])"
      ],
      "execution_count": null,
      "outputs": [
        {
          "output_type": "execute_result",
          "data": {
            "application/vnd.google.colaboratory.intrinsic+json": {
              "type": "string"
            },
            "text/plain": [
              "'time taste get outside yet antonio'"
            ]
          },
          "metadata": {},
          "execution_count": 28
        }
      ]
    },
    {
      "cell_type": "code",
      "metadata": {
        "id": "9AENygLbC6Sb"
      },
      "source": [
        "import tensorflow as tf\n",
        "import keras\n",
        "METRICS = [\n",
        "      tf.keras.metrics.BinaryAccuracy(name='accuracy'),\n",
        "      tf.keras.metrics.Precision(name='precision'),\n",
        "      tf.keras.metrics.Recall(name='recall'),  \n",
        "      tf.keras.metrics.AUC(name='auc'),\n",
        "]"
      ],
      "execution_count": null,
      "outputs": []
    },
    {
      "cell_type": "markdown",
      "metadata": {
        "id": "XuWMTxEfz8vZ"
      },
      "source": [
        "**Creating the Bidirectional LSTM Model**"
      ]
    },
    {
      "cell_type": "code",
      "metadata": {
        "id": "WlB4Y9Np9YHA"
      },
      "source": [
        "#creating the model\n",
        "\n",
        "model = Sequential()\n",
        "embedding_size = 128\n",
        "model.add(Embedding(input_dim=num_words,\n",
        "                    output_dim=embedding_size,\n",
        "                    input_length= max_length,\n",
        "                    name='layer_embedding'))\n",
        "model.add(Bidirectional(LSTM(256, return_sequences=True)))\n",
        "model.add(Bidirectional(LSTM(128,return_sequences=True)))\n",
        "model.add(Bidirectional(LSTM(64)))\n",
        "model.add(Dense(256, activation='relu'))\n",
        "model.add(Dropout(0.5))\n",
        "model.add(Dense(1, activation='sigmoid'))"
      ],
      "execution_count": null,
      "outputs": []
    },
    {
      "cell_type": "code",
      "metadata": {
        "id": "mOzmYdpMCk4-"
      },
      "source": [
        "model.compile(optimizer='adam',\n",
        "                loss='binary_crossentropy',\n",
        "                metrics=METRICS)"
      ],
      "execution_count": null,
      "outputs": []
    },
    {
      "cell_type": "code",
      "metadata": {
        "colab": {
          "base_uri": "https://localhost:8080/"
        },
        "id": "7V1wRUG6IhL7",
        "outputId": "9af0b25d-8128-4bf9-84ea-280df20f6dc0"
      },
      "source": [
        "model.summary()"
      ],
      "execution_count": null,
      "outputs": [
        {
          "output_type": "stream",
          "name": "stdout",
          "text": [
            "Model: \"sequential\"\n",
            "_________________________________________________________________\n",
            "Layer (type)                 Output Shape              Param #   \n",
            "=================================================================\n",
            "layer_embedding (Embedding)  (None, 43, 128)           1650560   \n",
            "_________________________________________________________________\n",
            "bidirectional (Bidirectional (None, 43, 512)           788480    \n",
            "_________________________________________________________________\n",
            "bidirectional_1 (Bidirection (None, 43, 256)           656384    \n",
            "_________________________________________________________________\n",
            "bidirectional_2 (Bidirection (None, 128)               164352    \n",
            "_________________________________________________________________\n",
            "dense (Dense)                (None, 256)               33024     \n",
            "_________________________________________________________________\n",
            "dropout (Dropout)            (None, 256)               0         \n",
            "_________________________________________________________________\n",
            "dense_1 (Dense)              (None, 1)                 257       \n",
            "=================================================================\n",
            "Total params: 3,293,057\n",
            "Trainable params: 3,293,057\n",
            "Non-trainable params: 0\n",
            "_________________________________________________________________\n"
          ]
        }
      ]
    },
    {
      "cell_type": "code",
      "metadata": {
        "colab": {
          "base_uri": "https://localhost:8080/",
          "height": 865
        },
        "id": "gwN2SKEFCe_s",
        "outputId": "bcfffbbc-8c9f-4ba7-fd04-f8c2997cbf9c"
      },
      "source": [
        "from keras.utils.vis_utils import plot_model\n",
        "plot_model(model, to_file = 'model_plot.png', show_shapes = True, show_layer_names = True)"
      ],
      "execution_count": null,
      "outputs": [
        {
          "output_type": "execute_result",
          "data": {
            "image/png": "[encoded data removed]",
            "text/plain": [
              "<IPython.core.display.Image object>"
            ]
          },
          "metadata": {},
          "execution_count": 33
        }
      ]
    },
    {
      "cell_type": "code",
      "metadata": {
        "colab": {
          "base_uri": "https://localhost:8080/"
        },
        "id": "j8jafacdDKF4",
        "outputId": "a0217ac4-dd79-494f-a191-478eb43bf761"
      },
      "source": [
        "Epochs = 20\n",
        "history = model.fit(\n",
        "     train_padding, train_label, epochs=Epochs, verbose=2,\n",
        "     batch_size=32,\n",
        "     validation_data = (test_padding,test_label))"
      ],
      "execution_count": null,
      "outputs": [
        {
          "output_type": "stream",
          "name": "stdout",
          "text": [
            "Epoch 1/20\n",
            "258/258 - 204s - loss: 0.2221 - accuracy: 0.9234 - precision: 0.9488 - recall: 0.6977 - auc: 0.9329 - val_loss: 0.1552 - val_accuracy: 0.9467 - val_precision: 0.8758 - val_recall: 0.8835 - val_auc: 0.9716\n",
            "Epoch 2/20\n",
            "258/258 - 190s - loss: 0.0817 - accuracy: 0.9770 - precision: 0.9744 - recall: 0.9220 - auc: 0.9864 - val_loss: 0.1728 - val_accuracy: 0.9491 - val_precision: 0.8977 - val_recall: 0.8681 - val_auc: 0.9647\n",
            "Epoch 3/20\n",
            "258/258 - 190s - loss: 0.0473 - accuracy: 0.9862 - precision: 0.9850 - recall: 0.9532 - auc: 0.9948 - val_loss: 0.2378 - val_accuracy: 0.9447 - val_precision: 0.8831 - val_recall: 0.8637 - val_auc: 0.9576\n",
            "Epoch 4/20\n",
            "258/258 - 190s - loss: 0.0328 - accuracy: 0.9908 - precision: 0.9890 - recall: 0.9699 - auc: 0.9967 - val_loss: 0.1988 - val_accuracy: 0.9452 - val_precision: 0.8851 - val_recall: 0.8637 - val_auc: 0.9564\n",
            "Epoch 5/20\n",
            "258/258 - 190s - loss: 0.0236 - accuracy: 0.9930 - precision: 0.9929 - recall: 0.9758 - auc: 0.9985 - val_loss: 0.2573 - val_accuracy: 0.9438 - val_precision: 0.8879 - val_recall: 0.8527 - val_auc: 0.9534\n",
            "Epoch 6/20\n",
            "258/258 - 190s - loss: 0.0176 - accuracy: 0.9947 - precision: 0.9946 - recall: 0.9817 - auc: 0.9993 - val_loss: 0.3026 - val_accuracy: 0.9447 - val_precision: 0.9012 - val_recall: 0.8418 - val_auc: 0.9432\n",
            "Epoch 7/20\n",
            "258/258 - 189s - loss: 0.0149 - accuracy: 0.9958 - precision: 0.9962 - recall: 0.9849 - auc: 0.9996 - val_loss: 0.3224 - val_accuracy: 0.9365 - val_precision: 0.8476 - val_recall: 0.8681 - val_auc: 0.9500\n",
            "Epoch 8/20\n",
            "258/258 - 188s - loss: 0.0148 - accuracy: 0.9961 - precision: 0.9967 - recall: 0.9860 - auc: 0.9994 - val_loss: 0.3877 - val_accuracy: 0.9404 - val_precision: 0.8689 - val_recall: 0.8593 - val_auc: 0.9378\n",
            "Epoch 9/20\n",
            "258/258 - 189s - loss: 0.0179 - accuracy: 0.9944 - precision: 0.9935 - recall: 0.9817 - auc: 0.9994 - val_loss: 0.3009 - val_accuracy: 0.9433 - val_precision: 0.9204 - val_recall: 0.8132 - val_auc: 0.9328\n",
            "Epoch 10/20\n",
            "258/258 - 189s - loss: 0.0126 - accuracy: 0.9961 - precision: 0.9967 - recall: 0.9860 - auc: 0.9998 - val_loss: 0.3483 - val_accuracy: 0.9423 - val_precision: 0.8871 - val_recall: 0.8462 - val_auc: 0.9385\n",
            "Epoch 11/20\n",
            "258/258 - 188s - loss: 0.0118 - accuracy: 0.9965 - precision: 0.9978 - recall: 0.9866 - auc: 0.9997 - val_loss: 0.4741 - val_accuracy: 0.9438 - val_precision: 0.9065 - val_recall: 0.8308 - val_auc: 0.9197\n",
            "Epoch 12/20\n",
            "258/258 - 190s - loss: 0.0102 - accuracy: 0.9971 - precision: 0.9995 - recall: 0.9876 - auc: 0.9996 - val_loss: 0.4414 - val_accuracy: 0.9413 - val_precision: 0.8957 - val_recall: 0.8308 - val_auc: 0.9275\n",
            "Epoch 13/20\n",
            "258/258 - 188s - loss: 0.0078 - accuracy: 0.9973 - precision: 1.0000 - recall: 0.9882 - auc: 0.9999 - val_loss: 0.5951 - val_accuracy: 0.9380 - val_precision: 0.8794 - val_recall: 0.8330 - val_auc: 0.9201\n",
            "Epoch 14/20\n",
            "258/258 - 188s - loss: 0.0158 - accuracy: 0.9954 - precision: 0.9967 - recall: 0.9828 - auc: 0.9991 - val_loss: 0.3605 - val_accuracy: 0.9413 - val_precision: 0.8976 - val_recall: 0.8286 - val_auc: 0.9366\n",
            "Epoch 15/20\n",
            "258/258 - 188s - loss: 0.0167 - accuracy: 0.9944 - precision: 0.9940 - recall: 0.9812 - auc: 0.9991 - val_loss: 0.3857 - val_accuracy: 0.9447 - val_precision: 0.9231 - val_recall: 0.8176 - val_auc: 0.9207\n",
            "Epoch 16/20\n",
            "258/258 - 188s - loss: 0.0128 - accuracy: 0.9961 - precision: 0.9973 - recall: 0.9855 - auc: 0.9995 - val_loss: 0.3488 - val_accuracy: 0.9370 - val_precision: 0.8685 - val_recall: 0.8418 - val_auc: 0.9375\n",
            "Epoch 17/20\n",
            "258/258 - 188s - loss: 0.0115 - accuracy: 0.9970 - precision: 0.9989 - recall: 0.9876 - auc: 0.9995 - val_loss: 0.4425 - val_accuracy: 0.9360 - val_precision: 0.8713 - val_recall: 0.8330 - val_auc: 0.9218\n",
            "Epoch 18/20\n",
            "258/258 - 189s - loss: 0.0093 - accuracy: 0.9971 - precision: 0.9984 - recall: 0.9887 - auc: 0.9999 - val_loss: 0.4717 - val_accuracy: 0.9370 - val_precision: 0.8736 - val_recall: 0.8352 - val_auc: 0.9231\n",
            "Epoch 19/20\n",
            "258/258 - 188s - loss: 0.0077 - accuracy: 0.9975 - precision: 0.9989 - recall: 0.9898 - auc: 0.9999 - val_loss: 0.4865 - val_accuracy: 0.9384 - val_precision: 0.8761 - val_recall: 0.8396 - val_auc: 0.9230\n",
            "Epoch 20/20\n",
            "258/258 - 189s - loss: 0.0078 - accuracy: 0.9975 - precision: 1.0000 - recall: 0.9887 - auc: 0.9999 - val_loss: 0.5494 - val_accuracy: 0.9346 - val_precision: 0.8670 - val_recall: 0.8308 - val_auc: 0.9175\n"
          ]
        }
      ]
    },
    {
      "cell_type": "code",
      "metadata": {
        "id": "2h0ZUsZCG1bT",
        "colab": {
          "base_uri": "https://localhost:8080/"
        },
        "outputId": "97c31f4a-9e41-4ddb-87b4-70960f048037"
      },
      "source": [
        "print('\\nEpoch No.  Train Loss  Train Accuracy      Val Loss      Val Accuracy')\n",
        "for i in range(Epochs):\n",
        "  print('{:8d} {:10f} \\t {:10f} \\t {:10f} \\t {:10f}'.format(i + 1, history.history['loss'][i], history.history['accuracy'][i], history.history['val_loss'][i], history.history['val_accuracy'][i]))"
      ],
      "execution_count": null,
      "outputs": [
        {
          "output_type": "stream",
          "name": "stdout",
          "text": [
            "\n",
            "Epoch No.  Train Loss  Train Accuracy     Val Loss      Val Accuracy\n",
            "       1   0.222071 \t   0.923403 \t   0.155224 \t   0.946680\n",
            "       2   0.081704 \t   0.976972 \t   0.172778 \t   0.949103\n",
            "       3   0.047261 \t   0.986183 \t   0.237837 \t   0.944741\n",
            "       4   0.032817 \t   0.990789 \t   0.198772 \t   0.945225\n",
            "       5   0.023602 \t   0.992971 \t   0.257346 \t   0.943771\n",
            "       6   0.017592 \t   0.994667 \t   0.302552 \t   0.944741\n",
            "       7   0.014923 \t   0.995758 \t   0.322445 \t   0.936500\n",
            "       8   0.014791 \t   0.996122 \t   0.387662 \t   0.940378\n",
            "       9   0.017893 \t   0.994425 \t   0.300933 \t   0.943286\n",
            "      10   0.012636 \t   0.996122 \t   0.348306 \t   0.942317\n",
            "      11   0.011839 \t   0.996485 \t   0.474125 \t   0.943771\n",
            "      12   0.010221 \t   0.997091 \t   0.441402 \t   0.941348\n",
            "      13   0.007767 \t   0.997334 \t   0.595071 \t   0.937954\n",
            "      14   0.015810 \t   0.995394 \t   0.360533 \t   0.941348\n",
            "      15   0.016700 \t   0.994425 \t   0.385665 \t   0.944741\n",
            "      16   0.012807 \t   0.996122 \t   0.348771 \t   0.936985\n",
            "      17   0.011463 \t   0.996970 \t   0.442535 \t   0.936015\n",
            "      18   0.009306 \t   0.997091 \t   0.471715 \t   0.936985\n",
            "      19   0.007742 \t   0.997455 \t   0.486457 \t   0.938439\n",
            "      20   0.007798 \t   0.997455 \t   0.549376 \t   0.934561\n"
          ]
        }
      ]
    },
    {
      "cell_type": "code",
      "metadata": {
        "id": "2P-vn0TlDi5M",
        "colab": {
          "base_uri": "https://localhost:8080/",
          "height": 177
        },
        "outputId": "6fb94a4b-0513-45b5-bf35-d6b4024006b1"
      },
      "source": [
        "import matplotlib.pyplot as pyplot\n",
        "pyplot.subplot(211)\n",
        "pyplot.title('Model Loss in Bidirectional LSTM')\n",
        "pyplot.ylabel('Loss')\n",
        "pyplot.xlabel('Epoch')\n",
        "pyplot.plot(history.history['loss'], label='train')\n",
        "pyplot.plot(history.history['val_loss'], label='test')\n",
        "pyplot.savefig('/content/drive/My Drive/Loss_Bidirectional_Lstm.png')\n",
        "pyplot.legend()\n",
        "pyplot.show()"
      ],
      "execution_count": null,
      "outputs": [
        {
          "output_type": "display_data",
          "data": {
            "image/png": "[encoded data removed]",
            "text/plain": [
              "<Figure size 432x288 with 1 Axes>"
            ]
          },
          "metadata": {
            "needs_background": "light"
          }
        }
      ]
    },
    {
      "cell_type": "code",
      "metadata": {
        "id": "OXVMVFScJJGH",
        "colab": {
          "base_uri": "https://localhost:8080/",
          "height": 177
        },
        "outputId": "e1e145de-267e-41bd-b0c0-e9f31fae946b"
      },
      "source": [
        "import matplotlib.pyplot as pyplot\n",
        "pyplot.subplot(211)\n",
        "pyplot.title('Model Accuracy in Bidirectional LSTM')\n",
        "pyplot.ylabel('Accuracy')\n",
        "pyplot.xlabel('Epoch')\n",
        "Xception_train_accuracy = history.history['accuracy']\n",
        "Xception_test_accuracy= history.history['val_accuracy']\n",
        "pyplot.plot(history.history['accuracy'], label='train')\n",
        "pyplot.plot(history.history['val_accuracy'], label='test')\n",
        "pyplot.savefig('/content/drive/My Drive/Accuracy_Bidirectional_Lstm.png')\n",
        "pyplot.legend()\n",
        "pyplot.show()"
      ],
      "execution_count": null,
      "outputs": [
        {
          "output_type": "display_data",
          "data": {
            "image/png": "[encoded data removed]",
            "text/plain": [
              "<Figure size 432x288 with 1 Axes>"
            ]
          },
          "metadata": {
            "needs_background": "light"
          }
        }
      ]
    },
    {
      "cell_type": "code",
      "metadata": {
        "id": "MgGCtCSpJX2k",
        "colab": {
          "base_uri": "https://localhost:8080/"
        },
        "outputId": "b827f91c-f5ca-4313-fddd-76046d1100b5"
      },
      "source": [
        "score = model.evaluate(test_padding,test_label)\n",
        "print(\" Total: \", len(test_padding))\n",
        "f1_score = (2*score[2]*score[3])/(score[2]+score[3])\n",
        "print(\"\\n\",\"Loss: \", score[0],\"\\n\", \"Accuracy: \", score[1],\"\\n\", \"Precision: \",score[2], \"\\n\",\"Recall: \",score[3],\"\\n\",\"F1-Score: \",f1_score,\"\\n\",\"AUC: \",score[4])"
      ],
      "execution_count": null,
      "outputs": [
        {
          "output_type": "stream",
          "name": "stdout",
          "text": [
            "65/65 [==============================] - 11s 166ms/step - loss: 0.5494 - accuracy: 0.9346 - precision: 0.8670 - recall: 0.8308 - auc: 0.9175\n",
            " Total:  2063\n",
            "\n",
            " Loss:  0.5493759512901306 \n",
            " Accuracy:  0.9345613121986389 \n",
            " Precision:  0.8669725060462952 \n",
            " Recall:  0.8307692408561707 \n",
            " F1-Score:  0.8484848676253122 \n",
            " AUC:  0.9174867868423462\n"
          ]
        }
      ]
    },
    {
      "cell_type": "code",
      "metadata": {
        "id": "mrD2OD_hJn7-",
        "colab": {
          "base_uri": "https://localhost:8080/"
        },
        "outputId": "d4484b03-6ab7-41aa-9721-5bc8bfc9b19f"
      },
      "source": [
        "model.compile(optimizer='sgd',\n",
        "              loss='mse',\n",
        "              metrics=['TruePositives','TrueNegatives','FalsePositives','FalseNegatives'])\n",
        "\n",
        "history = model.fit(train_padding, train_label, epochs=1, verbose=2,batch_size=20, validation_data = (test_padding,test_label))"
      ],
      "execution_count": null,
      "outputs": [
        {
          "output_type": "stream",
          "name": "stdout",
          "text": [
            "413/413 - 240s - loss: 0.0022 - true_positives: 1840.0000 - true_negatives: 6392.0000 - false_positives: 0.0000e+00 - false_negatives: 19.0000 - val_loss: 0.0623 - val_true_positives: 378.0000 - val_true_negatives: 1550.0000 - val_false_positives: 58.0000 - val_false_negatives: 77.0000\n"
          ]
        }
      ]
    },
    {
      "cell_type": "code",
      "metadata": {
        "id": "7DlQ_7ybKpcz",
        "colab": {
          "base_uri": "https://localhost:8080/",
          "height": 315
        },
        "outputId": "3ad91685-7d26-42b3-e88d-7d2ff039b549"
      },
      "source": [
        "import matplotlib.pyplot as pyplot\n",
        "import seaborn as sn\n",
        "import pandas as pd\n",
        "import matplotlib.pyplot as plt\n",
        "\n",
        "\n",
        "array = [[6392,0],\n",
        "         [19,1840]]\n",
        "\n",
        "df_cm = pd.DataFrame(array, range(2), range(2))\n",
        "\n",
        "sn.set(font_scale=1.4) # for label size\n",
        "sn.heatmap(df_cm, annot=True, annot_kws={\"size\": 12}, fmt = 'g') # font size\n",
        "pyplot.title('Confusion Matrix in train set')\n",
        "pyplot.ylabel('Actual Class')\n",
        "pyplot.xlabel('Predicted Class')\n",
        "pyplot.savefig('/content/drive/My Drive/ConfusionMatrix_Bidirectional_Lstm_train.png')\n",
        "pyplot.show()"
      ],
      "execution_count": 43,
      "outputs": [
        {
          "output_type": "display_data",
          "data": {
            "image/png": "[encoded data removed]",
            "text/plain": [
              "<Figure size 432x288 with 2 Axes>"
            ]
          },
          "metadata": {}
        }
      ]
    },
    {
      "cell_type": "code",
      "metadata": {
        "id": "-z-hI_R-KwPP",
        "colab": {
          "base_uri": "https://localhost:8080/",
          "height": 315
        },
        "outputId": "aa6c214e-8049-4cc6-f960-065976465d74"
      },
      "source": [
        "import matplotlib.pyplot as pyplot\n",
        "import seaborn as sn\n",
        "import pandas as pd\n",
        "import matplotlib.pyplot as plt\n",
        "\n",
        "\n",
        "array = [[1550,58],\n",
        "         [77,378]]\n",
        "\n",
        "df_cm = pd.DataFrame(array, range(2), range(2))\n",
        "\n",
        "sn.set(font_scale=1.4) # for label size\n",
        "sn.heatmap(df_cm, annot=True, annot_kws={\"size\": 12}, fmt = 'g') # font size\n",
        "pyplot.title('Confusion Matrix in test set')\n",
        "pyplot.ylabel('Actual Class')\n",
        "pyplot.xlabel('Predicted Class')\n",
        "pyplot.savefig('/content/drive/My Drive/ConfusionMatrix_Bidirectional_Lstm_test.png')\n",
        "pyplot.show()"
      ],
      "execution_count": 44,
      "outputs": [
        {
          "output_type": "display_data",
          "data": {
            "image/png": "[encoded data removed]",
            "text/plain": [
              "<Figure size 432x288 with 2 Axes>"
            ]
          },
          "metadata": {}
        }
      ]
    },
    {
      "cell_type": "markdown",
      "metadata": {
        "id": "v3C9eOjcUzXe"
      },
      "source": [
        "***Predictions***"
      ]
    },
    {
      "cell_type": "code",
      "metadata": {
        "id": "6hoLhxMLAY7C",
        "colab": {
          "base_uri": "https://localhost:8080/"
        },
        "outputId": "9e76c576-8279-4225-b755-251fd7670d2b"
      },
      "source": [
        "y_pred = model.predict(x=test_padding[0:1000])\n",
        "y_pred = y_pred.T[0]\n",
        "cls_pred = np.array([1.0 if p>0.5 else 0.0 for p in y_pred])\n",
        "cls_true = np.array(test_label[0:1000])\n",
        "incorrect = np.where(cls_pred != cls_true)\n",
        "correct = np.where(cls_pred == cls_true)\n",
        "incorrect = incorrect[0]\n",
        "correct = correct[0]\n",
        "print('\\n')\n",
        "print('Number of Mis-classified text in first 1000: ',len(incorrect),'\\n')\n",
        "print('Number of classified text in first 1000: ',len(correct),'\\n')\n",
        "idx = incorrect[0]\n",
        "idx1 = correct[0]\n",
        "print('First incorrect text index is: ',idx,'\\n')\n",
        "print('First correct text index is: ',idx1,'\\n')\n",
        "text = tokens_to_string(train_text[idx])\n",
        "text1 = tokens_to_string(train_text[idx1])\n",
        "print('First incorrect text is: ',text,'\\n')\n",
        "print('First correct text is: ',text1,'\\n')\n",
        "print('The predicted class for the first incorrect text is: ',y_pred[idx],'\\n')\n",
        "print('The actual class for the first incorrect text is: ',cls_true[idx],'\\n')\n",
        "print('The predicted class for the first correct text is: ',y_pred[idx1],'\\n')\n",
        "print('The actual class for the first correct text is: ',cls_true[idx1],'\\n')"
      ],
      "execution_count": null,
      "outputs": [
        {
          "metadata": {
            "tags": null
          },
          "name": "stdout",
          "output_type": "stream",
          "text": [
            "\n",
            "\n",
            "Number of Mis-classified text in first 1000:  68 \n",
            "\n",
            "Number of classified text in first 1000:  932 \n",
            "\n",
            "First incorrect text index is:  4 \n",
            "\n",
            "First correct text index is:  0 \n",
            "\n",
            "First incorrect text is:  maneater hysterical \n",
            "\n",
            "First correct text is:  time taste get outside yet antonio \n",
            "\n",
            "The predicted class for the first incorrect text is:  0.99996305 \n",
            "\n",
            "The actual class for the first incorrect text is:  0 \n",
            "\n",
            "The predicted class for the first correct text is:  0.99999666 \n",
            "\n",
            "The actual class for the first correct text is:  1 \n",
            "\n"
          ]
        }
      ]
    }
  ]
}